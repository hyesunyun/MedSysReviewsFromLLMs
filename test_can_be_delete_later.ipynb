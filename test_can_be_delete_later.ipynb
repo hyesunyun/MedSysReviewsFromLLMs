{
 "cells": [
  {
   "cell_type": "code",
   "execution_count": 1,
   "metadata": {},
   "outputs": [],
   "source": [
    "import os\n",
    "import galai as gal\n",
    "import torch\n",
    "\n",
    "from transformers import GPT2LMHeadModel, GPT2Tokenizer\n",
    "\n",
    "device = torch.device(\"cuda\")\n",
    "max_length = 1024\n",
    "\n",
    "galactica_model = gal.load_model(\"standard\", num_gpus=1)\n",
    "\n",
    "biomedlm_tokenizer = GPT2Tokenizer.from_pretrained(\"stanford-crfm/BioMedLM\")\n",
    "biomedlm_model = GPT2LMHeadModel.from_pretrained(\"stanford-crfm/BioMedLM\").to(device)"
   ]
  },
  {
   "cell_type": "code",
   "execution_count": 2,
   "metadata": {},
   "outputs": [],
   "source": [
    "def get_galactica_output(title):\n",
    "    prompt = 'Title: ' + title + '\\n\\n'\n",
    "    return galactica_model.generate(prompt, new_doc=True, top_p=0.7, max_length=max_length)"
   ]
  },
  {
   "cell_type": "code",
   "execution_count": 3,
   "metadata": {},
   "outputs": [],
   "source": [
    "def get_biomedlm_output(title):\n",
    "    prompt = 'Title: ' + title\n",
    "    input_ids = biomedlm_tokenizer.encode(\n",
    "        prompt, return_tensors=\"pt\"\n",
    "    ).to(device)\n",
    "\n",
    "    output = biomedlm_model.generate(input_ids, do_sample=True, max_length=max_length, top_k=50)\n",
    "\n",
    "    return biomedlm_tokenizer.decode(output[0], skip_special_tokens=True)"
   ]
  },
  {
   "cell_type": "markdown",
   "metadata": {},
   "source": [
    "### Old titles"
   ]
  },
  {
   "cell_type": "code",
   "execution_count": 4,
   "metadata": {},
   "outputs": [
    {
     "data": {
      "text/plain": [
       "'Title: Antipsychotic dose reduction compared to dose continuation for people with schizophrenia\\n\\nAbstract: Source Citation Kane D, et al. A systematic review and meta-analysis of randomized, controlled trials of dose reduction in the treatment of schizophrenia. Am J Psychiatry. 1998 Apr;155:755-63.</s>'"
      ]
     },
     "execution_count": 4,
     "metadata": {},
     "output_type": "execute_result"
    }
   ],
   "source": [
    "get_galactica_output(\"Antipsychotic dose reduction compared to dose continuation for people with schizophrenia\")"
   ]
  },
  {
   "cell_type": "code",
   "execution_count": 5,
   "metadata": {},
   "outputs": [
    {
     "name": "stderr",
     "output_type": "stream",
     "text": [
      "The attention mask and the pad token id were not set. As a consequence, you may observe unexpected behavior. Please pass your input's `attention_mask` to obtain reliable results.\n",
      "Setting `pad_token_id` to `eos_token_id`:28895 for open-end generation.\n"
     ]
    },
    {
     "data": {
      "text/plain": [
       "\"Title: Antipsychotic dose reduction compared to dose continuation for people with schizophrenia or bipolar disorder: systematic review and meta-analysis.* The main findings are (i) that antipsychotic doses were reduced by an average of 38.3%, (ii) that there were no improvements in functional capacity and quality of life, (iii) that there were small improvements in social functioning, and (iv) that there were small improvements in psychological outcomes during the 3 months after reductions but after the longer term differences were very small and not significant compared to continued dose continuation.\\n\\nWaiting times of 10 years or more between the development of an effective drug and its approval are not new. The failure of new drugs to reach their potential cost benefits in the short term, coupled with lack of knowledge about the long term implications and the availability of a range of treatment options, is of concern.^[@CIT0001]^ New drugs for schizophrenia are developed at a rate of 5--10 per year, which leaves them less than four years to gain market share compared to other drugs.^[@CIT0001]^ Despite a lack of evidence on the long term outcomes of reducing the antipsychotic dose, patients with mild-moderate symptoms are often prescribed lower doses of antipsychotic medications. Around 30% of patients receiving a second-generation antipsychotic are not prescribed their maximum maintenance dose, which is commonly defined as the dose that produces an acute symptomatic improvement.^[@CIT0002]^\\n\\nThe aim of the trial was to determine whether a reduction or increase in antipsychotic doses for people with schizophrenia or bipolar disorder results in less need for inpatient treatment and/or lower treatment costs in the medium term. The question also addressed: what is the impact of having a reduced dose on (i) symptoms during the 3 months after the reduction and (ii) symptoms and functioning at 12 months after dose reduction, (iii) quality of life during the 3 months after the reduction and (iv) quality of life at 12 months after dose reduction, and (v) costs during hospitalization and the 3 months after the reduction. (vi) What are the differences between patients and service users, (vii) what is the level of satisfaction with treatment and (viii) what is the cost of reducing versus not reducing the dose.\\n\\nThe review has been written using the PRISMA statement^[@CIT0003]^ and the Cochrane Handbook for systematic reviews^[@CIT0004]^ which provides guidelines for the conduct, documentation, and reporting of systematic reviews and meta-analysis of randomized trials.\\n\\nMethods {#s2}\\n=======\\n\\nInformation sources and literature searches {#s3}\\n-------------------------------------------\\n\\nStudies were identified from computer-aided searches of MEDLINE (1966 to July 2007) and EMBASE (1988 to July 2007) using EMBASE and MEDLINE\\\\'s MEDLINE In-Process Citations and PsycINFO search functions to identify unpublished studies, and from searches of the Cochrane Central Register of Controlled Trials (CENTRAL), MEDLINE (1966 to July 2007), EMBASE (1988 to July 2007), and PsycINFO (1806 to July, 2007). The searches were rerun in March 2009 with the addition of the following: (antipsychotic\\\\* OR neurolep\\\\* OR chlorpromazine OR fluphenazine OR thioridazine OR trifluoperazine OR flupentixol OR molindone OR pimozide OR resperidone OR clocapramine OR sertindole OR amisulpride OR quetiapine OR clozapine OR loxapine OR olanzapine OR perphenazine OR thioridazine) AND (reduction OR gradual OR taper) AND (schizophrenia OR schizoaffective OR manic OR manic-depressive OR bipolar OR depress\\\\* OR schizophreniform).\\n\\nThe search was last updated in March 2009. Citations retrieved from the searches were screened for relevance and duplicates were excluded. The following inclusion criteria were assessed independently by two reviewers (T.J. and N.W.L.): subjects involved were people with schizophrenia or bipolar disorder diagnosed using DSM III--IV or ICD-10 criteria, interventions were reduction or maintenance on antipsychotic dose, controls were continued antipsychotic dose, outcomes assessed included psychiatric symptoms during 3 or more months after reductions, and a study format which compared two or more treatment groups.\\n\\nAll included studies were reviewed by all three reviewers (T.J., S.S., and N.W.L.) using a data extraction form to assess methodological quality. Studies were assessed in relation to the following criteria: appropriateness of the randomization method, allocation concealment, assessor blinding, sample size, duration of follow-up, and attrition rates or reasons for exclusions.\\n\\nData extraction and analysis {#s4}\\n----------------------------\\n\\nThe following data was extracted independently by two reviewers\""
      ]
     },
     "execution_count": 5,
     "metadata": {},
     "output_type": "execute_result"
    }
   ],
   "source": [
    "get_biomedlm_output(\"Antipsychotic dose reduction compared to dose continuation for people with schizophrenia\")"
   ]
  },
  {
   "cell_type": "code",
   "execution_count": 6,
   "metadata": {},
   "outputs": [
    {
     "data": {
      "text/plain": [
       "'Title: Cervical pessary for preventing preterm birth in singleton pregnancies\\n\\nAbstract: Cervical length (CL) measurement has become the most common first-line test for risk stratification of preterm birth. The use of cervical pessaries to prevent preterm birth has gained popularity over the past few years. In this article, we review the available literature on the use of cervical pessaries for singleton pregnancies with short CL and discuss the available evidence and future directions.</s>'"
      ]
     },
     "execution_count": 6,
     "metadata": {},
     "output_type": "execute_result"
    }
   ],
   "source": [
    "get_galactica_output(\"Cervical pessary for preventing preterm birth in singleton pregnancies\")"
   ]
  },
  {
   "cell_type": "code",
   "execution_count": 7,
   "metadata": {},
   "outputs": [
    {
     "name": "stderr",
     "output_type": "stream",
     "text": [
      "The attention mask and the pad token id were not set. As a consequence, you may observe unexpected behavior. Please pass your input's `attention_mask` to obtain reliable results.\n",
      "Setting `pad_token_id` to `eos_token_id`:28895 for open-end generation.\n"
     ]
    },
    {
     "data": {
      "text/plain": [
       "'Title: Cervical pessary for preventing preterm birth in singleton pregnancies.\\n\\nAbstract:\\n\\n1.\\xa0\\xa0\\xa0\\xa0\\xa0\\xa0 Study design: Pregnant women recruited within 35 weeks gestation.\\n\\nComment:\\xa0\\xa0\\xa0\\xa0\\n\\n2.\\xa0\\xa0\\xa0\\xa0\\xa0\\xa0 Objectives:\\n\\nComment:\\n\\n3.\\xa0\\xa0\\xa0\\xa0\\xa0\\xa0 Introduction:\\n\\nComment:\\n\\nReview is recommended. Include a paragraph on the rationale and/or hypothesis for using pessary in these patients.\\n\\n4.\\xa0\\xa0\\xa0\\xa0\\xa0\\xa0 Methodology:\\n\\nComment:\\n\\n5.\\xa0\\xa0\\xa0\\xa0\\xa0\\xa0\\xa0\\xa0\\xa0\\xa0 Objectives:\\n\\nComment:\\n\\n6.\\xa0\\xa0\\xa0\\xa0\\xa0\\xa0\\xa0\\xa0\\xa0\\xa0 Inclusion criteria:\\n\\nComment:\\n\\n7.\\xa0\\xa0\\xa0\\xa0\\xa0\\xa0\\xa0\\xa0\\xa0\\xa0 Sample size:\\n\\nComment:\\n\\n8.\\xa0\\xa0\\xa0\\xa0\\xa0\\xa0\\xa0\\xa0\\xa0\\xa0 Random sequence generation:\\n\\nComment:\\n\\nComment:\\n\\n9.\\xa0\\xa0\\xa0\\xa0\\xa0\\xa0\\xa0\\xa0\\xa0\\xa0 Allocation concealment (selection bias):\\n\\nComment:\\n\\nComment:\\n\\n10.\\xa0\\xa0\\xa0\\xa0\\xa0\\xa0\\xa0\\xa0\\xa0\\xa0 Blinding:\\n\\nComment:\\n\\n11.\\xa0\\xa0\\xa0\\xa0\\xa0\\xa0\\xa0\\xa0\\xa0\\xa0 Incomplete outcome data (attrition bias):\\n\\nComment:\\n\\n12.\\xa0\\xa0\\xa0\\xa0\\xa0\\xa0\\xa0\\xa0\\xa0\\xa0 Blinding of outcome assessment (detection bias):\\n\\nComment:\\n\\n13.\\xa0\\xa0\\xa0\\xa0\\xa0\\xa0\\xa0\\xa0\\xa0\\xa0 Selective reporting (reporting bias):\\n\\nComment:\\n\\nConclusion:\\n\\nComment:\\n\\nIs it clear what the result of this study will mean?\\n\\nThe recommendation has been included: \"Further robust randomised controlled trials are needed to identify the efficacy and long-term safety of pessaries in the prevention of preterm births and adverse obstetric outcomes.\" (Page 3; Lines 27-28; Indicative of the strength of the recommendation)\\n\\n[^1]: No competing interests were disclosed.\\nA comparison of conventional and high-intensity ultrasound to induce a change in permeability through intact plant cell walls.\\nIn an attempt to improve methods for extracting target compounds from plants for analysis by liquid chromatography-mass spectrometry (LCMS), a new chemical pretreatment method was developed. The new technique utilizes high-intensity ultrasound to disrupt cell membranes. While conventional sonication (US) typically induces significant cell damage, higher ultrasound intensities produce a change in cell permeability rather than cell death. Using a variety of US exposure times and intensities, a model experiment was designed that compared the effectiveness of these two techniques to release a model compound from the cells. The model compound, trans-resveratrol, was first absorbed into an active charcoal slurry to minimize its interference with other compounds extracted from plant cells. The results of the model experiments indicated that high-intensity US was more effective than low-intensity US in enhancing cell permeability. High-intensity US resulted in greater than 95% extraction efficiencies for trans-resveratrol in as little as 3 min of treatment. These results suggested that high-intensity US might be a promising technique for facilitating the extraction of target compounds from plants prior to LCMS analysis.Extra-oral craniofacial fibrous dysplasia--recurring lesions, surgical management, and follow-up.\\nThe presentation of 2 cases of fibrous dysplasia of the mandible is reported. One lesion recurred after 3 years and was removed again after a further 3 years. The other lesion did not recur, indicating that it was not neoplastic. Surgical interventions carried out and follow-up treatment for each patient are discussed. The need for continued investigation of the various forms of treatment is emphasised.[The first case of human parechovirus type 3 in Colombia].\\nHuman parechovirus type 3 has been described recently as a pathogenic virus in newborn infants. It has not been described as a cause of illness in pediatric patients from Colombia. We present the first case of parechovirus isolated in Colombia in a child with febrile syndrome and diarrhea. We describe the first parechovirus isolation to describe genotype 3 in Colombia. We propose to detect this agent in stool samples from children'"
      ]
     },
     "execution_count": 7,
     "metadata": {},
     "output_type": "execute_result"
    }
   ],
   "source": [
    "get_biomedlm_output(\"Cervical pessary for preventing preterm birth in singleton pregnancies.\")"
   ]
  },
  {
   "cell_type": "markdown",
   "metadata": {},
   "source": [
    "### Extra titles\n",
    "\n",
    "Based on most cited in 2021 and also basically all time:\n",
    "https://www.cochranelibrary.com/documents/20182/141048232/CDSR+-+2021+Impact+Report_Nov22.pdf/8a5495b9-6551-4557-42a7-876b677869c6"
   ]
  },
  {
   "cell_type": "markdown",
   "metadata": {},
   "source": [
    "#### 2021's top 3 most cited (in JIF window)"
   ]
  },
  {
   "cell_type": "code",
   "execution_count": 8,
   "metadata": {},
   "outputs": [
    {
     "data": {
      "text/plain": [
       "'Title: Rapid, point-of-care antigen tests for diagnosis of SARS-CoV-2 infection\\n\\nAbstract: Introduction: In the absence of an effective treatment for COVID-19, early diagnosis and isolation of patients are the most effective ways to control the spread of the virus. The current gold standard for diagnosis of COVID-19 is real-time reverse transcription-polymerase chain reaction (RT-PCR). However, the high cost and long turnaround time of RT-PCR tests limit their use in low- and middle-income countries. In addition, RT-PCR is not suitable for point-of-care testing and requires trained personnel. In this review, we will focus on the development of rapid, point-of-care antigen tests that can be used in low- and middle-income countries to diagnose COVID-19. Methods: We searched PubMed, Google Scholar, and the Cochrane Central Register of Controlled Trials for relevant studies published between December 2019 and May 2020. We included studies that compared the sensitivity and specificity of antigen tests with those of RT-PCR tests. Results: The results of 11 studies that compared the sensitivity and specificity of antigen tests with those of RT-PCR tests are summarized in Table 1. The sensitivity and specificity of antigen tests varied widely between studies, with some tests showing very low sensitivity (55%) and specificity (66%). Conclusions: Antigen tests have the potential to be used in point-of-care settings to diagnose COVID-19. However, further studies are required to compare the performance of antigen tests with that of RT-PCR tests and to establish their clinical utility.</s>'"
      ]
     },
     "execution_count": 8,
     "metadata": {},
     "output_type": "execute_result"
    }
   ],
   "source": [
    "get_galactica_output(\"Rapid, point-of-care antigen tests for diagnosis of SARS-CoV-2 infection\")"
   ]
  },
  {
   "cell_type": "code",
   "execution_count": 9,
   "metadata": {},
   "outputs": [
    {
     "name": "stderr",
     "output_type": "stream",
     "text": [
      "The attention mask and the pad token id were not set. As a consequence, you may observe unexpected behavior. Please pass your input's `attention_mask` to obtain reliable results.\n",
      "Setting `pad_token_id` to `eos_token_id`:28895 for open-end generation.\n"
     ]
    },
    {
     "data": {
      "text/plain": [
       "'Title: Rapid, point-of-care antigen tests for diagnosis of SARS-CoV-2 infection\\n\\nTitle: Use of COVID antibody tests for diagnosis of COVID-19 infection\\n\\nTitle: COVID-19 and children: An up-to-date systematic review\\n\\nTitle: An overview of the diagnostic tools employed in case of suspected and confirmed COVID-19 and perspectives on their use\\n\\nTitle: Novel diagnostic tests for COVID-19: A systematic review and meta-analysis\\n\\nTitle: Evidence and experience of the use of point-of-care tests in patients with coronavirus disease 2019: A rapid review\\n\\nTitle: A rapid review of the use of rapid COVID-19 tests for use by frontline healthcare professionals\\n\\nTitle: A review of the performance of rapid tests for COVID-19 in the clinical laboratory, emergency department and at the point of care\\n\\nTitle: Rapid, high throughput diagnostics: Current and future use in the battle against COVID-2019\\n\\nTitle: Rapid point of care diagnostic tests for COVID-2019\\n\\nTitle: An expert panel review of clinical needs for point-of-care COVID-19 tests in the healthcare setting, and recommendations for the development and evaluation of these tests\\n\\nAbstract -- Key words should be added to indicate that these are point-of-care tests (PCR, rapid, lateral flow immunoassay or ELISA)\\n\\nAbstract -- This section could be better developed, with a little more explanation. Many of these tests are being developed within the last weeks and months. In some countries diagnostic capacity may be severely impacted, particularly in the areas of point of care availability.\\n\\nAbstract -- Indicate the target population and how many patients included in the study\\n\\nAbstract -- Please also indicate the prevalence of SARS-CoV2 among the participants\\n\\nAbstract -- For Abstract key words should indicate that this is a systematic review and meta-analysis\\n\\nAbstract -- For Abstract key words should indicate the target population and how many patients included in the study\\n\\nAbstract -- For Abstract key words should indicate the prevalence of SARS-CoV2 among the participants\\n\\nAbstract -- For Abstract key words should be Influenza, Influenza A virus, Influenza B virus, Influenza A AND B, CoV, Coronavirus, SARS-CoV-2, MERS CoV, COVID-19, OC43, HKU1, 229E, NL63, clinical specimens, respiratory specimens, throat swab, saliva\\n\\nAbstract -- Line 45, please rephrase to indicate that there is a need for rapid, high throughput diagnostics for COVID-19 in the battle against COVID-19\\n\\nAbstract -- Line 52, change to indicates that this is a systematic review\\n\\nAbstract -- Lines 56-57, which tests are being used in these countries.\\n\\nAbstract -- The prevalence of SARS-CoV2 among the participants is stated.\\n\\nAbstract -- What does the table indicate? If this data is given here in terms of % or numbers, it may be difficult for the reader to understand. Saying \"A total of 21 studies\" may also be difficult for a reader to understand\\n\\nSummary --\\n\\nWhat are the indications for the use of these rapid tests? Why these tests can only be done near laboratories and not in the community? And how do they compare with other existing diagnostic tests?\\n\\nSummary --\\n\\nWhat are the sensitivities and specificities of these tests compared with other existing tests?\\n\\nSummary --\\n\\nDo these tests have the capacity or the capability to detect co-infection?\\n\\nSummary --\\n\\nIt needs to be made clear what these rapid tests are detecting. (Point of care, near patient, in the laboratory and the ability of these tests to detect all viral structural proteins, and not just nucleic acids)\\n\\nSummary --\\n\\nAre there any test combinations that can be used for the detection of multiple viral proteins? Or do these tests need to be done simultaneously to detect multiple proteins?\\n\\nAbstract -- Indicate which countries the review is based\\n\\nAbstract -- Line 60 can be re-written to indicate that this systematic review is done within the last 12 months\\n\\nAbstract -- The conclusion can be re-written to improve clarity\\n\\nAbstract -- I suggest use of bullet point rather than long descriptions for Abstract key words\\n\\nGlobal Health -- Global Health,'"
      ]
     },
     "execution_count": 9,
     "metadata": {},
     "output_type": "execute_result"
    }
   ],
   "source": [
    "get_biomedlm_output(\"Rapid, point-of-care antigen tests for diagnosis of SARS-CoV-2 infection\")"
   ]
  },
  {
   "cell_type": "code",
   "execution_count": 10,
   "metadata": {},
   "outputs": [
    {
     "data": {
      "text/plain": [
       "\"Title: Antibody tests for identification of current and past infection with SARS-CoV-2\\n\\nAbstract: Background: In order to understand the true extent of the COVID-19 pandemic and the impact of the vaccination programme, it is important to know how long people have been infected with SARS-CoV-2. The presence of SARS-CoV-2 specific antibodies is a reliable indicator of infection, and the duration of antibody responses has been investigated in several studies. \\n \\nObjectives: To summarise the current evidence on the duration of antibodies in people with SARS-CoV-2 infection. \\n \\nSearch strategy: We searched PubMed and medRxiv for relevant studies using the terms ‘SARS-CoV-2’, ‘COVID-19’, ‘antibodies’ and ‘seroprevalence’, ‘seropositivity’, ‘duration’, ‘immunity’, ‘immunity after infection’ and ‘immunity after vaccination’. \\n \\nSelection criteria: Studies were included if they reported on the duration of antibodies in people with laboratory-confirmed SARS-CoV-2 infection. \\n \\nData collection and analysis: We extracted data on the study characteristics and outcomes from each study. \\n \\nMain results: We included 17 studies in this review, with data on antibody levels in 14,636 participants. The majority of studies were performed in the USA (n = 11) and China (n = 4). The studies reported on the duration of antibodies in 2,754 participants who were hospitalised with COVID-19 (median age 72 years, range 52-86), 10,344 participants with a mild COVID-19 infection (median age 38 years, range 23-75) and 1,638 participants with asymptomatic infection (median age 38 years, range 21-74). \\n \\nAll participants in the studies who had a mild or asymptomatic infection had antibodies for at least 90 days. In contrast, 20% (95% CI 16%-25%) of the participants in the studies who were hospitalised had antibodies for less than 30 days. \\n \\nAuthors' conclusions: Antibody responses to SARS-CoV-2 infection are long-lasting in people with a mild or asymptomatic infection. In contrast, antibodies may be short-lived in people who are hospitalised. \\n \\nThis review was registered on PROSPERO (CRD42021236635). \\n \\nFunding: The author(s) received no financial support for the research, authorship, and/or publication of this article. \\n \\nDeclaration of interests: The author(s) declare no competing interests. \\n \\nEthics approval: Ethical approval was not required for this study.</s>\""
      ]
     },
     "execution_count": 10,
     "metadata": {},
     "output_type": "execute_result"
    }
   ],
   "source": [
    "get_galactica_output(\"Antibody tests for identification of current and past infection with SARS-CoV-2\")"
   ]
  },
  {
   "cell_type": "code",
   "execution_count": 11,
   "metadata": {},
   "outputs": [
    {
     "name": "stderr",
     "output_type": "stream",
     "text": [
      "The attention mask and the pad token id were not set. As a consequence, you may observe unexpected behavior. Please pass your input's `attention_mask` to obtain reliable results.\n",
      "Setting `pad_token_id` to `eos_token_id`:28895 for open-end generation.\n"
     ]
    },
    {
     "data": {
      "text/plain": [
       "'Title: Antibody tests for identification of current and past infection with SARS-CoV-2 - summary of the evidence**\\n\\n###### \\n\\nClick here for additional data file.\\n\\n[^1]: Authors\\\\\\' addresses: Anand K. Patel, Christine L. Rowe, and William M. Farley, Center for Translational Science and Applied Medicine, University of Pennsylvania, Philadelphia, PA, E-mails: <ananpatel13@gmail.com>, <crowleyr@gmail.com>, and <wfarley@upenn.edu>. Jennifer K. Bryan, Department of Epidemiology, Harvard T. H. Chan School of Public Health, Boston, MA, E-mail: <jbryan.k@hsph.harvard.edu>. Rakesh Malhotra, Department of Medical Statistics and Epidemiology, Johns Hopkins Bloomberg School of Public Health, Baltimore, MD, E-mail: <rj.malhotra@jhu.edu>. Joshua D. E. Arnold, Department of Medical Statistics and Epidemiology, Johns Hopkins Bloomberg School of Public Health, Baltimore, MD, E-mail: <daarnold@jhu.edu>.\\n[The impact of the \"Give us a chance!\" Campaign of the French National League Against Cancer].\\nThe \"Give us a chance!\" Campaign was launched in 2009 by the French National League against Cancer (FNLC). It focuses mainly on three actions concerning the participation of both general population and patients: information, prevention, and early diagnosis. As of May 2018, it has been implemented in about 7 million people and in almost 25 million smokers, including 22.3 million people under 40 years. The campaign, involving over 420,000 organizations, reached 9 million audiences (1.5%) and is a major source for cancer information and awareness (about 85%). The impact of the campaign is demonstrated by an increase in the demand for tobacco-use cessation and by a decrease of around 3% in smoking in France in 2017. In 2017, the FNLCC launched a pilot screening with the Fecal Occult Blood Test program, which is now in phase III. According to the preliminary analysis of the first years of operation, the screening program has achieved a participation rate of more than 5% in 2017 and of 8% in the first 6 months of 2018. In addition, the program led to an increase of about 3% in the detection of colorectal cancer (CRC) cases, and a decrease in the median tumor size for CRC from 3.5 cm to 2 cm at diagnosis. These data confirm that the FNLCC campaign has contributed to an increase in awareness and an early diagnosis of CRC among screening participants. The objective of the \"Give us a chance!\" Campaign is now under revision in order to improve the screening program.Clinical trials for amyotrophic lateral sclerosis and Huntington disease: a European perspective.\\nAmyotrophic lateral sclerosis is a fatal neurodegenerative disease characterized mainly by the loss of both upper and lower motor neurons. This devastating disease remains incurable and is uniformly fatal within 3 years of diagnosis. There is currently no treatment available for this devastating disease; although several molecules are under investigation for the symptomatic treatment of different complications. At present, amyotrophic lateral sclerosis cannot be treated or cured with neuroprotective agents. Huntington disease is a devastating genetic illness characterized by an expansion of polyglutamine stretches in the protein huntingtin. At present, the only effective therapeutic strategy for Huntington disease is to delay the onset of disease by interfering with the abnormal expansion of the polyglutamine sequence. To date, several attempts have been carried out in order to develop neuroprotective and disease-modifying drugs for these two neurodegenerative diseases, with various degrees of success. In this review, we summarize the current clinical trials on amyotrophic lateral sclerosis and Huntington disease in Europe.Toxicokinetics and metabolism of N-butyl benzenesulfonyl aziridines in rats.\\nN-Methyl, N-benzyl, N-butyl and N-succinyl analogs were administered to male Fischer 344 rats, and blood, urine, feces and bile were analyzed for parent drug and metabolites. After dosing (7.5 mmol/kg body weight, i.v.), the N-butyl compounds were extensively distributed into tissues and were eliminated slowly (t 1/2 greater than 96 h). The N-succinyl analog had a lower clearance than the other benzenesulfonyl aziridines, which was probably due to increased protein binding. These compounds were excreted through the kidneys as a function of both dose and time, and metabolism in the liver was minimal. The N-benzyl analog'"
      ]
     },
     "execution_count": 11,
     "metadata": {},
     "output_type": "execute_result"
    }
   ],
   "source": [
    "get_biomedlm_output(\"Antibody tests for identification of current and past infection with SARS-CoV-2\")"
   ]
  },
  {
   "cell_type": "code",
   "execution_count": 12,
   "metadata": {},
   "outputs": [
    {
     "data": {
      "text/plain": [
       "'Title: Quarantine alone or in combination with other public health measures to control COVID-19: a rapid review\\n\\nAbstract: Background: COVID-19 has been a global pandemic. Quarantine has been a public health measure used to control the spread of COVID-19. The aim of this review was to summarize the evidence on the effectiveness of quarantine in preventing and controlling the spread of COVID-19. Methods: A rapid review of peer-reviewed studies on the effectiveness of quarantine alone or in combination with other public health measures to control COVID-19 was conducted. Articles were identified by searching the PubMed, Scopus, Web of Science, and Cochrane databases for studies published between January 1, 2020 and March 31, 2020. The quality of the studies was assessed using the Critical Appraisal Skills Programme (CASP) checklist. The strength of evidence was assessed using the Grading of Recommendations Assessment, Development and Evaluation (GRADE) approach. Results: The search strategy identified 1422 articles, of which 31 met the inclusion criteria. The included studies were conducted in China, Italy, Singapore, Hong Kong, and the USA. All studies were observational and reported on quarantine alone. Quarantine was associated with lower incidence of COVID-19 and lower mortality in some studies, but the quality of evidence was very low. Quarantine was not associated with significant differences in incidence of COVID-19 or mortality in the studies that used a control group. Quarantine was associated with a higher proportion of COVID-19 cases who had a mild illness, but the quality of evidence was very low. Conclusions: Quarantine alone is unlikely to reduce the incidence of COVID-19 or mortality. However, quarantine may help reduce the proportion of COVID-19 cases with a mild illness.</s>'"
      ]
     },
     "execution_count": 12,
     "metadata": {},
     "output_type": "execute_result"
    }
   ],
   "source": [
    "get_galactica_output(\"Quarantine alone or in combination with other public health measures to control COVID-19: a rapid review\")"
   ]
  },
  {
   "cell_type": "code",
   "execution_count": 13,
   "metadata": {},
   "outputs": [
    {
     "name": "stderr",
     "output_type": "stream",
     "text": [
      "The attention mask and the pad token id were not set. As a consequence, you may observe unexpected behavior. Please pass your input's `attention_mask` to obtain reliable results.\n",
      "Setting `pad_token_id` to `eos_token_id`:28895 for open-end generation.\n"
     ]
    },
    {
     "data": {
      "text/plain": [
       "\"Title: Quarantine alone or in combination with other public health measures to control COVID-19: a rapid review\\n\\nCountry/Territory of origin: France\\n\\nPeer-review report's scientific quality classification\\n\\nGrade A (Excellent): 0\\n\\nGrade B (Very good): B\\n\\nGrade C (Good): C, C, C\\n\\nGrade D (Fair): 0\\n\\nGrade E (Poor): 0\\n\\nP-Reviewer: Rocha-Silva C, Tao R S-Editor: Dou Y L-Editor: A E-Editor: Liu MY\\n\\n[^1]: Author contributions: Le B wrote the initial draft of the paper; Bresson-Hadni M and Gabarreau M revised the manuscript; all authors critically reviewed, edited, and approved the final draft.\\n\\n    Corresponding author: Manuel Bresson-Hadni, PhD, Doctor, Research Associate Professor, Department of Public Health, Bichat Claude Bernard University, Université Paris-Descartes, EA 4684, Paris, France. <manuel.bresson@univ-paris-descartes.fr>\\n[The effects of a high fat diet with increased n-6 or n-3 fatty acids on lipids metabolism, myocardial function and myocardial fatty acid metabolism in rats].\\nTo explore the effects of a high fat diet with increased n-6 or n-3 fatty acids on lipids metabolism, myocardial function, and myocardial energy metabolism in rats. Wistar male rats fed with a commercial or high fat diet were divided into three groups randomly. The high fat diet increased the ratio of n-6 to n-3 fatty acids in two groups, from 1:2.2 to 3:1 and the commercial diet of n-6 to n-3 fatty acids was 1:10. After 8 weeks feeding, plasma lipids, myocardial energy metabolism and myocardial function were measured. The myocardial fatty acid composition was analyzed. There were significantly high plasma total cholesterol, tri-glyceride in the rats fed with a high fat diet compared with the group fed with the commercial diet (P < 0.05-0.01), and the high fat diet mainly resulted in high plasma total cholesterol levels. The myocardial function was decreased, and the myocardial metabolism in rats fed with a high fat diet was significantly different in the two groups with regards to myocardial glycogen and fatty acids. High fat diet increased the ratio of n-6 to n-3, and the n-3 fatty acids may increase the myocardial metabolism, and high plasma total cholesterol level may accelerate atherosclerosis.1.. Introduction\\n================\\n\\nThe prevalence of chronic rhinosinusitis with nasal polyps (CRSwNP), one of the most common chronic airway inflammatory conditions, has reached approximately 0.5--1% in Western countries \\\\[[@b1-ijms-15-02193],[@b2-ijms-15-02193]\\\\]. Etiopathogenesis of refractory CRSwNP remains poorly understood. There is evidence that bacterial infection plays a crucial role in CRSwNP, and certain microbes, such as *Staphylococcus aureus* (*S. aureus*), may directly participate in its pathophysiology and induce inflammatory mediators in the context of nasal polyposis \\\\[[@b3-ijms-15-02193]--[@b6-ijms-15-02193]\\\\]. In addition to the microbial colonization, abnormal function of the innate immune response, which includes defects in pathogen recognition receptors (PRRs) signaling and/or deficient downstream signaling pathways, plays a role in the development of inflammation in CRSwNP \\\\[[@b7-ijms-15-02193],[@b8-ijms-15-02193]\\\\]. Therefore, modulating the innate immune response in CRSwNP may serve as a better therapeutic option that results in reduced bacterial colonization and improved clinical outcomes \\\\[[@b9-ijms-15-02193],[@b10-ijms-15-02193]\\\\].\\n\\nThe PRRs, such as Toll-like receptors (TLRs) and nucleotide oligomerization domain-like receptors (NLRs), detect pathogen-associated molecular patterns and trigger host defenses against infection by inducing inflammatory responses \\\\[[@b11-ijms-15-02193],[@b12-ijms-15-02193]\\\\]. TLRs play a vital role in initiating innate immune reactions and have been implicated in controlling a wide range of inflammatory diseases \\\\[[\""
      ]
     },
     "execution_count": 13,
     "metadata": {},
     "output_type": "execute_result"
    }
   ],
   "source": [
    "get_biomedlm_output(\"Quarantine alone or in combination with other public health measures to control COVID-19: a rapid review\")"
   ]
  },
  {
   "cell_type": "markdown",
   "metadata": {},
   "source": [
    "#### all-time top 3 cited in guidelines"
   ]
  },
  {
   "cell_type": "code",
   "execution_count": 14,
   "metadata": {},
   "outputs": [
    {
     "data": {
      "text/plain": [
       "'Title: Decision aids for people facing health treatment or screening decisions\\n\\nAbstract: This review describes the available evidence for the effectiveness of decision aids (DAs) for people facing health treatment or screening decisions. We searched the Cochrane Library, MEDLINE, EMBASE, CINAHL, and the Campbell Library for randomized controlled trials that evaluated DAs. We included studies in which the participants were making a health treatment or screening decision. Two reviewers independently assessed study eligibility, extracted data, and assessed study quality. We included 12 trials involving 11,356 participants in the review. In most trials, the DAs were used by people who had been diagnosed with a serious illness or by people who were considering screening for a serious condition. The results of our review suggest that DAs may help people to consider the benefits and harms of health treatments or screening tests more clearly, but they do not appear to increase the proportion of people who decide to have the treatment or screening. DAs may increase the number of people who know what to do, but they do not appear to affect people’s behaviour. The findings of our review are limited by the quality of the included trials and by heterogeneity in the type of DA and the type of decision that was being made.</s>'"
      ]
     },
     "execution_count": 14,
     "metadata": {},
     "output_type": "execute_result"
    }
   ],
   "source": [
    "get_galactica_output(\"Decision aids for people facing health treatment or screening decisions\")"
   ]
  },
  {
   "cell_type": "code",
   "execution_count": 15,
   "metadata": {},
   "outputs": [
    {
     "name": "stderr",
     "output_type": "stream",
     "text": [
      "The attention mask and the pad token id were not set. As a consequence, you may observe unexpected behavior. Please pass your input's `attention_mask` to obtain reliable results.\n",
      "Setting `pad_token_id` to `eos_token_id`:28895 for open-end generation.\n"
     ]
    },
    {
     "data": {
      "text/plain": [
       "'Title: Decision aids for people facing health treatment or screening decisions about their health: a systematic review and meta-analysis.\\nTo address the use of decision aids (DA) in health interventions and to provide insight into the impact of DA on decision quality, decisional conflict, anxiety, satisfaction with decision, knowledge about health risks and benefits, as well as the proportion of people making informed decisions. A systematic review and meta-analysis. Medline, Embase, Web of Science and Cochrane Central Register of Controlled Trials were searched between 2006 and 2015 with no lower date limit applied. Studies investigating the efficacy of DA in the promotion of informed choice in health interventions were included. Fifty-eight studies reporting on 45 different DA on 33 health topics were included. Only 9 of these interventions showed evidence of having a positive impact on the decision quality for people with low literacy levels. The most widely used DA were the Ottawa Decision Support Framework (6%) and the International Patient Decision Aid Standards (6%). Some significant but clinically modest levels of difference in the outcomes of anxiety, informed decision, knowledge and satisfaction of decision were seen with different DA interventions. The meta-analyses show no statistically significant benefit for DA in the overall outcomes with small differences between DA versus usual care (for anxiety, p=0.558; for knowledge, p=0.532; for satisfaction, p=0.701). In fact the DA group was less confident than the control group (p=0.000) about their decisions being the best ones possible. Despite the potential benefits for people making decisions about their health, the adoption of these interventions has been slow in Western countries. The widespread use of DA in healthcare is limited by our modest understanding of their efficacy and effectiveness, which in turn is related to the fact that they are largely untested, poorly designed and do not reflect values that are important to people. Given the growing interest from the international community in DA, to be supported by governments and health services in their evaluation and implementation, further research is needed for a better understanding of the factors that affect their use and outcome. The use of DA in the health field will require changes in the culture and values of professionals and consumers. We found only weak evidence about the beneficial effect of DA, and small differences between those who use them and those who do not.Background {#Sec1}\\n==========\\n\\nPancreatic cancer is the 4th leading cause of cancer-related mortality (696,000 deaths) and fifth most common cancer diagnosed (469,000 cases) worldwide \\\\[[@CR1]\\\\]. Early-stage pancreatic cancer is asymptomatic, thus is usually not amenable for intervention. At later stages, symptoms are related to primary tumor location and secondary sites of metastasis \\\\[[@CR2]\\\\]; whereas the symptoms related to distant metastasis of pancreatic cancer are generally present within the liver, lung, bone and brain, especially the liver \\\\[[@CR3]\\\\].\\n\\nThe metastasis of pancreatic cancer is a very complicated process, involving multiple steps. It has been shown that epithelial-to-mesenchymal transition (EMT) plays a crucial role in the invasion and metastasis of tumors \\\\[[@CR4]\\\\], and the occurrence of EMT is correlated with the ability of invasion and metastasis of liver metastasis cells \\\\[[@CR5], [@CR6]\\\\]. The key to reversing EMT is regulating transforming growth factor β (TGF-β) and its receptor \\\\[[@CR7]\\\\]. During EMT, tumor cells lose their epithelial cell morphology and cell polarity. Subsequently, they lose the expression of E-cadherin, a cell adhesion molecule. Up-regulated transcription factors such as Snail and Slug are also associated with the loss of cell polarity \\\\[[@CR8]\\\\]. After invasion and metastasis of tumor cells, they undergo reverse EMT and obtain the characteristic of epithelial cells \\\\[[@CR9]\\\\]. These findings suggest that reverse EMT has an important effect on the invasion and metastasis of tumor cells.\\n\\nRecently, many molecular targeted drugs approved by the U.S. Food and Drug Administration have been applied to clinical therapy of malignant tumors \\\\[[@CR10], [@CR11]\\\\]. Sorafenib, a small molecule protein tyrosine kinase inhibitor, can block the activation of VEGFR, PDGFR, and Raf-1, leading to inhibition of tumor angiogenesis and tumor cell proliferation \\\\[[@CR12]\\\\]. Moreover, it can also inhibit invasion and reverse EMT in lung adenocarcinoma and hepatocellular carcinoma \\\\[[@CR13], [@CR14]\\\\]. We hypothesized that sorafenib can also reverse EMT in pancreatic cancer via inhibiting VEGFR/PDGFR/Raf-1 signaling pathway, leading to reduced pancreatic cancer metastasis.\\n\\nMethods {#Sec2}\\n=======\\n\\nCell lines'"
      ]
     },
     "execution_count": 15,
     "metadata": {},
     "output_type": "execute_result"
    }
   ],
   "source": [
    "get_biomedlm_output(\"Decision aids for people facing health treatment or screening decisions\")"
   ]
  },
  {
   "cell_type": "code",
   "execution_count": 16,
   "metadata": {},
   "outputs": [
    {
     "data": {
      "text/plain": [
       "'Title: Physician advice for smoking cessation\\n\\nAbstract: The benefits of smoking cessation are well known. The role of physician advice in assisting smokers to quit has been controversial. This review considers the evidence for and against the efficacy of physician advice to quit. There is strong evidence that brief advice from a physician is effective in helping people to stop smoking. In a number of studies, physician advice increased the proportion of smokers who quit compared with a control group. In the most recent study of physician advice, the proportion of people who quit was double in the group that received brief advice from a physician compared with a control group. The increase in quitting rates is of the same order of magnitude as the increase in quitting rates following the provision of nicotine replacement therapy (NRT). In the UK, where smoking is a serious public health problem, a new initiative has been introduced to increase the provision of physician advice. The National Health Service (NHS) has committed to providing all smokers with free nicotine patches and a free consultation with a smoking cessation advisor. It is anticipated that this initiative will increase the proportion of smokers who will receive advice to quit. However, it is likely that many smokers will receive NRT in the form of patches rather than physician advice. There is a need for further research to determine the relative effectiveness of these two interventions.</s>'"
      ]
     },
     "execution_count": 16,
     "metadata": {},
     "output_type": "execute_result"
    }
   ],
   "source": [
    "get_galactica_output(\"Physician advice for smoking cessation\")"
   ]
  },
  {
   "cell_type": "code",
   "execution_count": 17,
   "metadata": {},
   "outputs": [
    {
     "name": "stderr",
     "output_type": "stream",
     "text": [
      "The attention mask and the pad token id were not set. As a consequence, you may observe unexpected behavior. Please pass your input's `attention_mask` to obtain reliable results.\n",
      "Setting `pad_token_id` to `eos_token_id`:28895 for open-end generation.\n"
     ]
    },
    {
     "data": {
      "text/plain": [
       "'Title: Physician advice for smoking cessation in patients with depression: a systematic review\\n\\nCaption: Forest plot of studies comparing the effect of physician advice versus no advice or an alternative intervention on 7-day or 30-day tobacco abstinence at follow-up.\\n\\n###### \\n\\nClick here for file\\n\\nAcknowledgements\\n================\\n\\nWe thank Janet Young and Paul Thompson for assistance in developing search terms, and Kyung-Hwan Hong for conducting literature searches. This work was funded through a research grant from the Canadian Health Services Research Foundation and the Canadian Institutes of Health Research. I.M.W. is supported by an Early Researcher Award from the Ontario Ministry of Research and Innovation.\\nFull text\\n=========\\n\\nWe investigated the prevalence of *Chlamydia trachomatis* (CT) in asymptomatic young girls and boys in the city of Göteborg, Sweden, and the influence of age and hormonal contraception on the prevalence. One hundred thirty-five girls and 120 boys below 20 years of age, of whom 80 were currently using hormonal contraceptives (HC) and 105 were not, were clinically examined and examined for CT serologically. The age range of the girls was 6-18 and of boys 6-17 years. Thirty-eight (28%) girls and 34 (29%) boys were found to be positive for CT. The antibody test result was positive in seven girls and one boy who had no clinical signs of cervicitis. CT was significantly more frequent in girls than in boys (*χ*^2^=17.14, *P*\\\\<0.001). No significant difference was found between the different age groups of women or men. In the girls, a significant higher CT prevalence was found amongst those in the ages 12-15 years as compared to 15-17 years (Pearson *χ*^2^=3.82, *P*\\\\<0.05). There was no such significant difference within men. The prevalence was significantly lower amongst the women taking hormonal contraceptives (25%) than amongst those who were not (39%) (Pearson * χ*^2^=5.02, *P*\\\\<0.05). This was not found for men. The present study demonstrates that the prevalence of CT among young girls and boys is higher than previously thought. The prevalence is significantly lower in girls on hormonal contraceptives.\\n\\n![Picture of the method for sampling from the cervix. At first a cotton swab is put into a transport medium. Samples are taken from the inside of the cervical canal through the cervix with a brush.](rbccv-2-4_F1){#F1}\\n\\n![Prevalence of *Chlamydia trachomatis* (CT) and cervical inflammation in young girls and boys divided according to age.](rbccv-2-4_F2){#F2}\\n\\n![Prevalence and severity of cervicitis in girls, divided according to age.](rbccv-2-4_F3){#F3}\\nEffects of short-term and chronic feedings with a protein-restricted diet on food intake, activity, body composition, and metabolism.\\nWeanling rats, fed ad libitum for 3 weeks with a 16% protein diet (LP), showed a significant reduction in their level of spontaneous activity and their protein growth rate relative to those fed a 32% protein diet (CP). To determine whether this reduced spontaneous activity was related to the nutritional status of the animals, protein-restricted rats were fed ad libitum, pair fed with a CP group or undernourished to match body weight (BW) and lean body mass (LBM) of CP rats. After 7 days of feeding, pair feeding resulted in a significant increase in the activity level. When pair fed with the CP group, LP rats consumed significantly less food, so they were less likely to be undernourished. In contrast, during feeding ad libitum and when fed ad libitum, both LP and CP rats achieved very different compositions and BWs. LP rats showed significantly lower BW, carcass protein and LBM and a greater degree of hypophagia. After 3 weeks of LP feeding, the BW and composition of the remaining CP rats were significantly worse than the LP rats. The LP rats were in positive energy balance, whereas the CP rats lost BW, carcass protein and LBM. Although during the first 48 h of feeding ad libitum they were hyperphagic, after 1 week of LP feeding they became hypophagic. At the beginning of the feeding period LP rats showed an impaired glucose tolerance, but after 3 weeks of ad libitum feeding they showed a complete restoration of glucose tolerance and even an improvement in the insulin response to intraperitoneal glucose. This metabolic adaptation is discussed in relation to the improvement'"
      ]
     },
     "execution_count": 17,
     "metadata": {},
     "output_type": "execute_result"
    }
   ],
   "source": [
    "get_biomedlm_output(\"Physician advice for smoking cessation\")"
   ]
  },
  {
   "cell_type": "code",
   "execution_count": 18,
   "metadata": {},
   "outputs": [
    {
     "data": {
      "text/plain": [
       "'Title: Nicotine replacement therapy for smoking cessation\\n\\nAbstract: The nicotine replacement therapy (NRT) is an effective and safe treatment for smoking cessation.The NRT is available in the form of patches,gums,and lozenges,and its efficacy is comparable to bupropion.NRT is well tolerated and is associated with a low risk of serious adverse effects.NRT is effective and safe for all smokers who want to quit,including those who smoke cigarettes or roll-your-own cigarettes. \\n \\nKey words: \\nSmoking cessation; Nicotine replacement therapy; Patch; Gum; Lozenge</s>'"
      ]
     },
     "execution_count": 18,
     "metadata": {},
     "output_type": "execute_result"
    }
   ],
   "source": [
    "get_galactica_output(\"Nicotine replacement therapy for smoking cessation\")"
   ]
  },
  {
   "cell_type": "code",
   "execution_count": 19,
   "metadata": {},
   "outputs": [
    {
     "name": "stderr",
     "output_type": "stream",
     "text": [
      "The attention mask and the pad token id were not set. As a consequence, you may observe unexpected behavior. Please pass your input's `attention_mask` to obtain reliable results.\n",
      "Setting `pad_token_id` to `eos_token_id`:28895 for open-end generation.\n"
     ]
    },
    {
     "data": {
      "text/plain": [
       "'Title: Nicotine replacement therapy for smoking cessation. Introduction {#Sec1}\\n=============\\n\\nTinnitus is defined as a perception of sound in the absence of external auditory stimulation^[@CR1]^. More than one third of the world\\'s population is affected by various degrees of tinnitus, of whom less than 2% have severe tinnitus and are unable to bear the associated distress^[@CR2]^. The burden of tinnitus on patients and society is significant and is associated with decreased quality of life, impaired sleep quality, and higher rates of anxiety and depression, among other factors^[@CR3]--[@CR5]^. There is currently no consensus with regard to recommended treatment for tinnitus^[@CR6]^. Although some patients experience marked improvement with initial treatment of tinnitus, many experience recurrence in many weeks to months following treatment^[@CR6]^.\\n\\nNicotine replacement is common treatment for tobacco dependence. In many countries, nicotine replacement products are widely available over-the-counter as cessation aids. Given the high prevalence of tobacco use, however, nicotine replacement has also been used to treat tinnitus. Two decades ago, the first study exploring the effects of nicotine replacement to treat tinnitus was reported among patients undergoing clinical tobacco cessation^[@CR7]^. In this pilot study of 16 smokers, nicotine replacement therapy was shown to produce significant improvements in tinnitus loudness, frequency, and distress. Subsequently, several other small uncontrolled trials have reported benefits of nicotine replacement therapy for tinnitus symptoms^[@CR8]--[@CR11]^. Several systematic reviews and meta-analyses have reviewed these studies together^[@CR12]--[@CR14]^. The most recent meta-analysis^[@CR14]^ included 10 studies published prior to July 2014 and included a total of 257 participants. In this most recent meta-analysis, the authors concluded that there were significant reductions in tinnitus distress for patients using nicotine replacement therapy compared to placebo^[@CR14]^. However, they included studies published before 2010 in the overall analysis^[@CR15]--[@CR19]^. Also, this most recent meta-analysis did not assess changes in tinnitus loudness.\\n\\nThe purpose of the present meta-analysis was to update the previous meta-analysis investigating the efficacy of nicotine replacement therapy for tinnitus severity and to assess changes in tinnitus loudness. The main question is whether nicotine replacement treatment has significant benefits for tinnitus-related distress and loudness. A secondary outcome was also included to assess the effects of nicotine replacement therapy on tinnitus quality.\\n\\nBased on these results, we also sought to determine the number of participants needed to treat for both tinnitus severity and tinnitus loudness.\\n\\nResults {#Sec2}\\n=======\\n\\nCharacteristics of included studies {#Sec3}\\n-----------------------------------\\n\\nA flowchart of the literature search and selection is presented in Fig.\\xa0[1](#Fig1){ref-type=\"fig\"}. The database search for the present meta-analysis and systematic review revealed 1,430 publications (1,373 articles after removal of duplicates). After initial screening of abstracts, 43 articles were selected for full-text screening. An additional 31 articles were excluded from the meta-analysis (16 articles did not assess efficacy of nicotine replacement on tinnitus, 11 articles did not use an objective outcome measure, 4 articles did not use a randomized controlled design, and 10 were duplicate reports). Twelve articles (five randomized controlled trials and seven prospective randomized crossover trials) were included in the meta-analysis^[@CR7],[@CR8],[@CR10]--[@CR12],[@CR20]--[@CR27]^. The two authors discussed all controversial articles, and an agreement regarding inclusion or exclusion of the article was achieved in all cases. The literature search and selection also yielded five previously published systematic reviews with meta-analyses that assessed the effect of nicotine replacement therapy on various aspects of tinnitus (Table\\xa0[1](#Tab1){ref-type=\"table\"})^[@CR14],[@CR28]--[@CR31]^.Figure 1Flow diagram of literature search and selection.Table 1Previous systematic reviews.Reviews (author, year, country, journal)Search time frameSearch terms (database)Search numbersIncluded in meta-analysisIncluded studiesIncluded RCTsMethodological quality (NOS)Grimm (1996), Australia, Ear Nose Throat J^[@CR28]^January 1994 to August 1996Medical Subject Headings (MEDLINE)Tinnitus and (nicotine or cotinine or nicotine replacement therapy'"
      ]
     },
     "execution_count": 19,
     "metadata": {},
     "output_type": "execute_result"
    }
   ],
   "source": [
    "get_biomedlm_output(\"Nicotine replacement therapy for smoking cessation\")"
   ]
  },
  {
   "cell_type": "code",
   "execution_count": null,
   "metadata": {},
   "outputs": [],
   "source": []
  }
 ],
 "metadata": {
  "kernelspec": {
   "display_name": "Python 3 (ipykernel)",
   "language": "python",
   "name": "python3"
  },
  "language_info": {
   "codemirror_mode": {
    "name": "ipython",
    "version": 3
   },
   "file_extension": ".py",
   "mimetype": "text/x-python",
   "name": "python",
   "nbconvert_exporter": "python",
   "pygments_lexer": "ipython3",
   "version": "3.9.15"
  }
 },
 "nbformat": 4,
 "nbformat_minor": 4
}
